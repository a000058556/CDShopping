{
  "nbformat": 4,
  "nbformat_minor": 0,
  "metadata": {
    "colab": {
      "name": "天氣.ipynb",
      "provenance": [],
      "collapsed_sections": [],
      "toc_visible": true,
      "authorship_tag": "ABX9TyMNbbo2R+C0QGl9oq1iuaHJ",
      "include_colab_link": true
    },
    "kernelspec": {
      "name": "python3",
      "display_name": "Python 3"
    },
    "language_info": {
      "name": "python"
    }
  },
  "cells": [
    {
      "cell_type": "markdown",
      "metadata": {
        "id": "view-in-github",
        "colab_type": "text"
      },
      "source": [
        "<a href=\"https://colab.research.google.com/github/a000058556/CDShopping/blob/master/%E5%A4%A9%E6%B0%A3.ipynb\" target=\"_parent\"><img src=\"https://colab.research.google.com/assets/colab-badge.svg\" alt=\"Open In Colab\"/></a>"
      ]
    },
    {
      "cell_type": "code",
      "execution_count": 3,
      "metadata": {
        "id": "COhq-43kiV9d"
      },
      "outputs": [],
      "source": [
        "import numpy as np\n",
        "import pandas as pd\n",
        "import json ,ssl, urllib.request ,requests"
      ]
    },
    {
      "cell_type": "code",
      "source": [
        "#資料庫提供的json網址\n",
        "url =\"https://opendata.cwb.gov.tw/api/v1/rest/datastore/F-C0032-001?Authorization=CWB-ABF5A52D-567B-41EF-840C-872751E479C0&format=JSON&elementName=PoP&sort=time\"\n",
        "\n",
        "#處理HTTPS請求:SSL證書驗證\n",
        "context = ssl._create_unverified_context()\n",
        "\n",
        "#開啟jsondata\n",
        "with urllib.request.urlopen(url, context=context) as jsondata:\n",
        "  #使用json.loads()搭配.read()讀取json，編碼設定utf-8\n",
        "  data = json.loads(jsondata.read().decode('utf-8-sig')) \n",
        "  # data = pd.read_json(url, orient='columns') "
      ],
      "metadata": {
        "id": "2gaA7Fyyi7Og"
      },
      "execution_count": 4,
      "outputs": []
    },
    {
      "cell_type": "code",
      "source": [
        "type(data['records']['location'])#['locationName']#['weatherElement']"
      ],
      "metadata": {
        "id": "DKBg0ni8JW7R",
        "colab": {
          "base_uri": "https://localhost:8080/"
        },
        "outputId": "9e1478f2-360c-418c-b6d1-9c2bf0de86b9"
      },
      "execution_count": 45,
      "outputs": [
        {
          "output_type": "execute_result",
          "data": {
            "text/plain": [
              "list"
            ]
          },
          "metadata": {},
          "execution_count": 45
        }
      ]
    },
    {
      "cell_type": "code",
      "source": [
        "data01 = pd.DataFrame(data)\n",
        "data01"
      ],
      "metadata": {
        "colab": {
          "base_uri": "https://localhost:8080/",
          "height": 175
        },
        "id": "WcDeitx7yoU4",
        "outputId": "964d7764-75fc-4348-a69d-152681e20daa"
      },
      "execution_count": 34,
      "outputs": [
        {
          "output_type": "execute_result",
          "data": {
            "text/plain": [
              "                   success                                             result  \\\n",
              "resource_id           true                                        F-C0032-001   \n",
              "fields                true  [{'id': 'datasetDescription', 'type': 'String'...   \n",
              "datasetDescription    true                                                NaN   \n",
              "location              true                                                NaN   \n",
              "\n",
              "                                                              records  \n",
              "resource_id                                                       NaN  \n",
              "fields                                                            NaN  \n",
              "datasetDescription                                          三十六小時天氣預報  \n",
              "location            [{'locationName': '嘉義縣', 'weatherElement': [{'...  "
            ],
            "text/html": [
              "\n",
              "  <div id=\"df-8277e4b3-b7df-407a-8edc-62525f21edf3\">\n",
              "    <div class=\"colab-df-container\">\n",
              "      <div>\n",
              "<style scoped>\n",
              "    .dataframe tbody tr th:only-of-type {\n",
              "        vertical-align: middle;\n",
              "    }\n",
              "\n",
              "    .dataframe tbody tr th {\n",
              "        vertical-align: top;\n",
              "    }\n",
              "\n",
              "    .dataframe thead th {\n",
              "        text-align: right;\n",
              "    }\n",
              "</style>\n",
              "<table border=\"1\" class=\"dataframe\">\n",
              "  <thead>\n",
              "    <tr style=\"text-align: right;\">\n",
              "      <th></th>\n",
              "      <th>success</th>\n",
              "      <th>result</th>\n",
              "      <th>records</th>\n",
              "    </tr>\n",
              "  </thead>\n",
              "  <tbody>\n",
              "    <tr>\n",
              "      <th>resource_id</th>\n",
              "      <td>true</td>\n",
              "      <td>F-C0032-001</td>\n",
              "      <td>NaN</td>\n",
              "    </tr>\n",
              "    <tr>\n",
              "      <th>fields</th>\n",
              "      <td>true</td>\n",
              "      <td>[{'id': 'datasetDescription', 'type': 'String'...</td>\n",
              "      <td>NaN</td>\n",
              "    </tr>\n",
              "    <tr>\n",
              "      <th>datasetDescription</th>\n",
              "      <td>true</td>\n",
              "      <td>NaN</td>\n",
              "      <td>三十六小時天氣預報</td>\n",
              "    </tr>\n",
              "    <tr>\n",
              "      <th>location</th>\n",
              "      <td>true</td>\n",
              "      <td>NaN</td>\n",
              "      <td>[{'locationName': '嘉義縣', 'weatherElement': [{'...</td>\n",
              "    </tr>\n",
              "  </tbody>\n",
              "</table>\n",
              "</div>\n",
              "      <button class=\"colab-df-convert\" onclick=\"convertToInteractive('df-8277e4b3-b7df-407a-8edc-62525f21edf3')\"\n",
              "              title=\"Convert this dataframe to an interactive table.\"\n",
              "              style=\"display:none;\">\n",
              "        \n",
              "  <svg xmlns=\"http://www.w3.org/2000/svg\" height=\"24px\"viewBox=\"0 0 24 24\"\n",
              "       width=\"24px\">\n",
              "    <path d=\"M0 0h24v24H0V0z\" fill=\"none\"/>\n",
              "    <path d=\"M18.56 5.44l.94 2.06.94-2.06 2.06-.94-2.06-.94-.94-2.06-.94 2.06-2.06.94zm-11 1L8.5 8.5l.94-2.06 2.06-.94-2.06-.94L8.5 2.5l-.94 2.06-2.06.94zm10 10l.94 2.06.94-2.06 2.06-.94-2.06-.94-.94-2.06-.94 2.06-2.06.94z\"/><path d=\"M17.41 7.96l-1.37-1.37c-.4-.4-.92-.59-1.43-.59-.52 0-1.04.2-1.43.59L10.3 9.45l-7.72 7.72c-.78.78-.78 2.05 0 2.83L4 21.41c.39.39.9.59 1.41.59.51 0 1.02-.2 1.41-.59l7.78-7.78 2.81-2.81c.8-.78.8-2.07 0-2.86zM5.41 20L4 18.59l7.72-7.72 1.47 1.35L5.41 20z\"/>\n",
              "  </svg>\n",
              "      </button>\n",
              "      \n",
              "  <style>\n",
              "    .colab-df-container {\n",
              "      display:flex;\n",
              "      flex-wrap:wrap;\n",
              "      gap: 12px;\n",
              "    }\n",
              "\n",
              "    .colab-df-convert {\n",
              "      background-color: #E8F0FE;\n",
              "      border: none;\n",
              "      border-radius: 50%;\n",
              "      cursor: pointer;\n",
              "      display: none;\n",
              "      fill: #1967D2;\n",
              "      height: 32px;\n",
              "      padding: 0 0 0 0;\n",
              "      width: 32px;\n",
              "    }\n",
              "\n",
              "    .colab-df-convert:hover {\n",
              "      background-color: #E2EBFA;\n",
              "      box-shadow: 0px 1px 2px rgba(60, 64, 67, 0.3), 0px 1px 3px 1px rgba(60, 64, 67, 0.15);\n",
              "      fill: #174EA6;\n",
              "    }\n",
              "\n",
              "    [theme=dark] .colab-df-convert {\n",
              "      background-color: #3B4455;\n",
              "      fill: #D2E3FC;\n",
              "    }\n",
              "\n",
              "    [theme=dark] .colab-df-convert:hover {\n",
              "      background-color: #434B5C;\n",
              "      box-shadow: 0px 1px 3px 1px rgba(0, 0, 0, 0.15);\n",
              "      filter: drop-shadow(0px 1px 2px rgba(0, 0, 0, 0.3));\n",
              "      fill: #FFFFFF;\n",
              "    }\n",
              "  </style>\n",
              "\n",
              "      <script>\n",
              "        const buttonEl =\n",
              "          document.querySelector('#df-8277e4b3-b7df-407a-8edc-62525f21edf3 button.colab-df-convert');\n",
              "        buttonEl.style.display =\n",
              "          google.colab.kernel.accessAllowed ? 'block' : 'none';\n",
              "\n",
              "        async function convertToInteractive(key) {\n",
              "          const element = document.querySelector('#df-8277e4b3-b7df-407a-8edc-62525f21edf3');\n",
              "          const dataTable =\n",
              "            await google.colab.kernel.invokeFunction('convertToInteractive',\n",
              "                                                     [key], {});\n",
              "          if (!dataTable) return;\n",
              "\n",
              "          const docLinkHtml = 'Like what you see? Visit the ' +\n",
              "            '<a target=\"_blank\" href=https://colab.research.google.com/notebooks/data_table.ipynb>data table notebook</a>'\n",
              "            + ' to learn more about interactive tables.';\n",
              "          element.innerHTML = '';\n",
              "          dataTable['output_type'] = 'display_data';\n",
              "          await google.colab.output.renderOutput(dataTable, element);\n",
              "          const docLink = document.createElement('div');\n",
              "          docLink.innerHTML = docLinkHtml;\n",
              "          element.appendChild(docLink);\n",
              "        }\n",
              "      </script>\n",
              "    </div>\n",
              "  </div>\n",
              "  "
            ]
          },
          "metadata": {},
          "execution_count": 34
        }
      ]
    },
    {
      "cell_type": "code",
      "source": [
        "ds = data['records']\n",
        "# for i in data:\n",
        "#  print(i[\"location\"],\"\\t\",i[\"weatherElement\"],\"\\t\",i[\"parameterName\"],\"\\t\",i[\"parameterValue\"])"
      ],
      "metadata": {
        "id": "vtaSmxbFm0Rp"
      },
      "execution_count": 5,
      "outputs": []
    },
    {
      "cell_type": "code",
      "source": [
        "df = ds['location']\n",
        "df"
      ],
      "metadata": {
        "id": "G6FuIynRt3yv"
      },
      "execution_count": null,
      "outputs": []
    },
    {
      "cell_type": "code",
      "source": [
        "DFall = pd.DataFrame(df)\n",
        "DFall"
      ],
      "metadata": {
        "colab": {
          "base_uri": "https://localhost:8080/",
          "height": 1671
        },
        "id": "aNGfhIn1uW2-",
        "outputId": "7169a2a8-0265-4c0e-c5a2-8ea6378d88ad"
      },
      "execution_count": 9,
      "outputs": [
        {
          "output_type": "execute_result",
          "data": {
            "text/plain": [
              "   locationName                                     weatherElement\n",
              "0           嘉義縣  [{'elementName': 'PoP', 'time': [{'startTime':...\n",
              "1           新北市  [{'elementName': 'PoP', 'time': [{'startTime':...\n",
              "2           嘉義市  [{'elementName': 'PoP', 'time': [{'startTime':...\n",
              "3           新竹縣  [{'elementName': 'PoP', 'time': [{'startTime':...\n",
              "4           新竹市  [{'elementName': 'PoP', 'time': [{'startTime':...\n",
              "5           臺北市  [{'elementName': 'PoP', 'time': [{'startTime':...\n",
              "6           臺南市  [{'elementName': 'PoP', 'time': [{'startTime':...\n",
              "7           宜蘭縣  [{'elementName': 'PoP', 'time': [{'startTime':...\n",
              "8           苗栗縣  [{'elementName': 'PoP', 'time': [{'startTime':...\n",
              "9           雲林縣  [{'elementName': 'PoP', 'time': [{'startTime':...\n",
              "10          花蓮縣  [{'elementName': 'PoP', 'time': [{'startTime':...\n",
              "11          臺中市  [{'elementName': 'PoP', 'time': [{'startTime':...\n",
              "12          臺東縣  [{'elementName': 'PoP', 'time': [{'startTime':...\n",
              "13          桃園市  [{'elementName': 'PoP', 'time': [{'startTime':...\n",
              "14          南投縣  [{'elementName': 'PoP', 'time': [{'startTime':...\n",
              "15          高雄市  [{'elementName': 'PoP', 'time': [{'startTime':...\n",
              "16          金門縣  [{'elementName': 'PoP', 'time': [{'startTime':...\n",
              "17          屏東縣  [{'elementName': 'PoP', 'time': [{'startTime':...\n",
              "18          基隆市  [{'elementName': 'PoP', 'time': [{'startTime':...\n",
              "19          澎湖縣  [{'elementName': 'PoP', 'time': [{'startTime':...\n",
              "20          彰化縣  [{'elementName': 'PoP', 'time': [{'startTime':...\n",
              "21          連江縣  [{'elementName': 'PoP', 'time': [{'startTime':..."
            ],
            "text/html": [
              "\n",
              "  <div id=\"df-d39bad64-3971-49b1-8187-448fd234143b\">\n",
              "    <div class=\"colab-df-container\">\n",
              "      <div>\n",
              "<style scoped>\n",
              "    .dataframe tbody tr th:only-of-type {\n",
              "        vertical-align: middle;\n",
              "    }\n",
              "\n",
              "    .dataframe tbody tr th {\n",
              "        vertical-align: top;\n",
              "    }\n",
              "\n",
              "    .dataframe thead th {\n",
              "        text-align: right;\n",
              "    }\n",
              "</style>\n",
              "<table border=\"1\" class=\"dataframe\">\n",
              "  <thead>\n",
              "    <tr style=\"text-align: right;\">\n",
              "      <th></th>\n",
              "      <th>locationName</th>\n",
              "      <th>weatherElement</th>\n",
              "    </tr>\n",
              "  </thead>\n",
              "  <tbody>\n",
              "    <tr>\n",
              "      <th>0</th>\n",
              "      <td>嘉義縣</td>\n",
              "      <td>[{'elementName': 'PoP', 'time': [{'startTime':...</td>\n",
              "    </tr>\n",
              "    <tr>\n",
              "      <th>1</th>\n",
              "      <td>新北市</td>\n",
              "      <td>[{'elementName': 'PoP', 'time': [{'startTime':...</td>\n",
              "    </tr>\n",
              "    <tr>\n",
              "      <th>2</th>\n",
              "      <td>嘉義市</td>\n",
              "      <td>[{'elementName': 'PoP', 'time': [{'startTime':...</td>\n",
              "    </tr>\n",
              "    <tr>\n",
              "      <th>3</th>\n",
              "      <td>新竹縣</td>\n",
              "      <td>[{'elementName': 'PoP', 'time': [{'startTime':...</td>\n",
              "    </tr>\n",
              "    <tr>\n",
              "      <th>4</th>\n",
              "      <td>新竹市</td>\n",
              "      <td>[{'elementName': 'PoP', 'time': [{'startTime':...</td>\n",
              "    </tr>\n",
              "    <tr>\n",
              "      <th>5</th>\n",
              "      <td>臺北市</td>\n",
              "      <td>[{'elementName': 'PoP', 'time': [{'startTime':...</td>\n",
              "    </tr>\n",
              "    <tr>\n",
              "      <th>6</th>\n",
              "      <td>臺南市</td>\n",
              "      <td>[{'elementName': 'PoP', 'time': [{'startTime':...</td>\n",
              "    </tr>\n",
              "    <tr>\n",
              "      <th>7</th>\n",
              "      <td>宜蘭縣</td>\n",
              "      <td>[{'elementName': 'PoP', 'time': [{'startTime':...</td>\n",
              "    </tr>\n",
              "    <tr>\n",
              "      <th>8</th>\n",
              "      <td>苗栗縣</td>\n",
              "      <td>[{'elementName': 'PoP', 'time': [{'startTime':...</td>\n",
              "    </tr>\n",
              "    <tr>\n",
              "      <th>9</th>\n",
              "      <td>雲林縣</td>\n",
              "      <td>[{'elementName': 'PoP', 'time': [{'startTime':...</td>\n",
              "    </tr>\n",
              "    <tr>\n",
              "      <th>10</th>\n",
              "      <td>花蓮縣</td>\n",
              "      <td>[{'elementName': 'PoP', 'time': [{'startTime':...</td>\n",
              "    </tr>\n",
              "    <tr>\n",
              "      <th>11</th>\n",
              "      <td>臺中市</td>\n",
              "      <td>[{'elementName': 'PoP', 'time': [{'startTime':...</td>\n",
              "    </tr>\n",
              "    <tr>\n",
              "      <th>12</th>\n",
              "      <td>臺東縣</td>\n",
              "      <td>[{'elementName': 'PoP', 'time': [{'startTime':...</td>\n",
              "    </tr>\n",
              "    <tr>\n",
              "      <th>13</th>\n",
              "      <td>桃園市</td>\n",
              "      <td>[{'elementName': 'PoP', 'time': [{'startTime':...</td>\n",
              "    </tr>\n",
              "    <tr>\n",
              "      <th>14</th>\n",
              "      <td>南投縣</td>\n",
              "      <td>[{'elementName': 'PoP', 'time': [{'startTime':...</td>\n",
              "    </tr>\n",
              "    <tr>\n",
              "      <th>15</th>\n",
              "      <td>高雄市</td>\n",
              "      <td>[{'elementName': 'PoP', 'time': [{'startTime':...</td>\n",
              "    </tr>\n",
              "    <tr>\n",
              "      <th>16</th>\n",
              "      <td>金門縣</td>\n",
              "      <td>[{'elementName': 'PoP', 'time': [{'startTime':...</td>\n",
              "    </tr>\n",
              "    <tr>\n",
              "      <th>17</th>\n",
              "      <td>屏東縣</td>\n",
              "      <td>[{'elementName': 'PoP', 'time': [{'startTime':...</td>\n",
              "    </tr>\n",
              "    <tr>\n",
              "      <th>18</th>\n",
              "      <td>基隆市</td>\n",
              "      <td>[{'elementName': 'PoP', 'time': [{'startTime':...</td>\n",
              "    </tr>\n",
              "    <tr>\n",
              "      <th>19</th>\n",
              "      <td>澎湖縣</td>\n",
              "      <td>[{'elementName': 'PoP', 'time': [{'startTime':...</td>\n",
              "    </tr>\n",
              "    <tr>\n",
              "      <th>20</th>\n",
              "      <td>彰化縣</td>\n",
              "      <td>[{'elementName': 'PoP', 'time': [{'startTime':...</td>\n",
              "    </tr>\n",
              "    <tr>\n",
              "      <th>21</th>\n",
              "      <td>連江縣</td>\n",
              "      <td>[{'elementName': 'PoP', 'time': [{'startTime':...</td>\n",
              "    </tr>\n",
              "  </tbody>\n",
              "</table>\n",
              "</div>\n",
              "      <button class=\"colab-df-convert\" onclick=\"convertToInteractive('df-d39bad64-3971-49b1-8187-448fd234143b')\"\n",
              "              title=\"Convert this dataframe to an interactive table.\"\n",
              "              style=\"display:none;\">\n",
              "        \n",
              "  <svg xmlns=\"http://www.w3.org/2000/svg\" height=\"24px\"viewBox=\"0 0 24 24\"\n",
              "       width=\"24px\">\n",
              "    <path d=\"M0 0h24v24H0V0z\" fill=\"none\"/>\n",
              "    <path d=\"M18.56 5.44l.94 2.06.94-2.06 2.06-.94-2.06-.94-.94-2.06-.94 2.06-2.06.94zm-11 1L8.5 8.5l.94-2.06 2.06-.94-2.06-.94L8.5 2.5l-.94 2.06-2.06.94zm10 10l.94 2.06.94-2.06 2.06-.94-2.06-.94-.94-2.06-.94 2.06-2.06.94z\"/><path d=\"M17.41 7.96l-1.37-1.37c-.4-.4-.92-.59-1.43-.59-.52 0-1.04.2-1.43.59L10.3 9.45l-7.72 7.72c-.78.78-.78 2.05 0 2.83L4 21.41c.39.39.9.59 1.41.59.51 0 1.02-.2 1.41-.59l7.78-7.78 2.81-2.81c.8-.78.8-2.07 0-2.86zM5.41 20L4 18.59l7.72-7.72 1.47 1.35L5.41 20z\"/>\n",
              "  </svg>\n",
              "      </button>\n",
              "      \n",
              "  <style>\n",
              "    .colab-df-container {\n",
              "      display:flex;\n",
              "      flex-wrap:wrap;\n",
              "      gap: 12px;\n",
              "    }\n",
              "\n",
              "    .colab-df-convert {\n",
              "      background-color: #E8F0FE;\n",
              "      border: none;\n",
              "      border-radius: 50%;\n",
              "      cursor: pointer;\n",
              "      display: none;\n",
              "      fill: #1967D2;\n",
              "      height: 32px;\n",
              "      padding: 0 0 0 0;\n",
              "      width: 32px;\n",
              "    }\n",
              "\n",
              "    .colab-df-convert:hover {\n",
              "      background-color: #E2EBFA;\n",
              "      box-shadow: 0px 1px 2px rgba(60, 64, 67, 0.3), 0px 1px 3px 1px rgba(60, 64, 67, 0.15);\n",
              "      fill: #174EA6;\n",
              "    }\n",
              "\n",
              "    [theme=dark] .colab-df-convert {\n",
              "      background-color: #3B4455;\n",
              "      fill: #D2E3FC;\n",
              "    }\n",
              "\n",
              "    [theme=dark] .colab-df-convert:hover {\n",
              "      background-color: #434B5C;\n",
              "      box-shadow: 0px 1px 3px 1px rgba(0, 0, 0, 0.15);\n",
              "      filter: drop-shadow(0px 1px 2px rgba(0, 0, 0, 0.3));\n",
              "      fill: #FFFFFF;\n",
              "    }\n",
              "  </style>\n",
              "\n",
              "      <script>\n",
              "        const buttonEl =\n",
              "          document.querySelector('#df-d39bad64-3971-49b1-8187-448fd234143b button.colab-df-convert');\n",
              "        buttonEl.style.display =\n",
              "          google.colab.kernel.accessAllowed ? 'block' : 'none';\n",
              "\n",
              "        async function convertToInteractive(key) {\n",
              "          const element = document.querySelector('#df-d39bad64-3971-49b1-8187-448fd234143b');\n",
              "          const dataTable =\n",
              "            await google.colab.kernel.invokeFunction('convertToInteractive',\n",
              "                                                     [key], {});\n",
              "          if (!dataTable) return;\n",
              "\n",
              "          const docLinkHtml = 'Like what you see? Visit the ' +\n",
              "            '<a target=\"_blank\" href=https://colab.research.google.com/notebooks/data_table.ipynb>data table notebook</a>'\n",
              "            + ' to learn more about interactive tables.';\n",
              "          element.innerHTML = '';\n",
              "          dataTable['output_type'] = 'display_data';\n",
              "          await google.colab.output.renderOutput(dataTable, element);\n",
              "          const docLink = document.createElement('div');\n",
              "          docLink.innerHTML = docLinkHtml;\n",
              "          element.appendChild(docLink);\n",
              "        }\n",
              "      </script>\n",
              "    </div>\n",
              "  </div>\n",
              "  "
            ]
          },
          "metadata": {},
          "execution_count": 9
        }
      ]
    },
    {
      "cell_type": "code",
      "source": [
        "DFall['weatherElement'][0][0]['time'][0]['parameter']['parameterName']"
      ],
      "metadata": {
        "colab": {
          "base_uri": "https://localhost:8080/",
          "height": 35
        },
        "id": "3k3oqUCgwTTY",
        "outputId": "b6f5eefb-9f41-4bf7-ff32-792b1c3b6fe4"
      },
      "execution_count": 62,
      "outputs": [
        {
          "output_type": "execute_result",
          "data": {
            "text/plain": [
              "'70'"
            ],
            "application/vnd.google.colaboratory.intrinsic+json": {
              "type": "string"
            }
          },
          "metadata": {},
          "execution_count": 62
        }
      ]
    },
    {
      "cell_type": "code",
      "source": [
        "CYName = DFall['locationName']\n",
        "CYName"
      ],
      "metadata": {
        "colab": {
          "base_uri": "https://localhost:8080/"
        },
        "id": "phDl4gua2aKM",
        "outputId": "4c699428-09a4-47ca-e689-6cd89aa0ee9d"
      },
      "execution_count": 10,
      "outputs": [
        {
          "output_type": "execute_result",
          "data": {
            "text/plain": [
              "0     嘉義縣\n",
              "1     新北市\n",
              "2     嘉義市\n",
              "3     新竹縣\n",
              "4     新竹市\n",
              "5     臺北市\n",
              "6     臺南市\n",
              "7     宜蘭縣\n",
              "8     苗栗縣\n",
              "9     雲林縣\n",
              "10    花蓮縣\n",
              "11    臺中市\n",
              "12    臺東縣\n",
              "13    桃園市\n",
              "14    南投縣\n",
              "15    高雄市\n",
              "16    金門縣\n",
              "17    屏東縣\n",
              "18    基隆市\n",
              "19    澎湖縣\n",
              "20    彰化縣\n",
              "21    連江縣\n",
              "Name: locationName, dtype: object"
            ]
          },
          "metadata": {},
          "execution_count": 10
        }
      ]
    },
    {
      "cell_type": "code",
      "source": [
        "DF01 = DFall['weatherElement']\n",
        "# DF01 = pd.Series(DF01)\n",
        "DF01"
      ],
      "metadata": {
        "colab": {
          "base_uri": "https://localhost:8080/"
        },
        "id": "UKxS-7Blvcp3",
        "outputId": "b81f0c0b-7ea3-4401-e926-aebecb33e383"
      },
      "execution_count": 31,
      "outputs": [
        {
          "output_type": "execute_result",
          "data": {
            "text/plain": [
              "0     [{'elementName': 'PoP', 'time': [{'startTime':...\n",
              "1     [{'elementName': 'PoP', 'time': [{'startTime':...\n",
              "2     [{'elementName': 'PoP', 'time': [{'startTime':...\n",
              "3     [{'elementName': 'PoP', 'time': [{'startTime':...\n",
              "4     [{'elementName': 'PoP', 'time': [{'startTime':...\n",
              "5     [{'elementName': 'PoP', 'time': [{'startTime':...\n",
              "6     [{'elementName': 'PoP', 'time': [{'startTime':...\n",
              "7     [{'elementName': 'PoP', 'time': [{'startTime':...\n",
              "8     [{'elementName': 'PoP', 'time': [{'startTime':...\n",
              "9     [{'elementName': 'PoP', 'time': [{'startTime':...\n",
              "10    [{'elementName': 'PoP', 'time': [{'startTime':...\n",
              "11    [{'elementName': 'PoP', 'time': [{'startTime':...\n",
              "12    [{'elementName': 'PoP', 'time': [{'startTime':...\n",
              "13    [{'elementName': 'PoP', 'time': [{'startTime':...\n",
              "14    [{'elementName': 'PoP', 'time': [{'startTime':...\n",
              "15    [{'elementName': 'PoP', 'time': [{'startTime':...\n",
              "16    [{'elementName': 'PoP', 'time': [{'startTime':...\n",
              "17    [{'elementName': 'PoP', 'time': [{'startTime':...\n",
              "18    [{'elementName': 'PoP', 'time': [{'startTime':...\n",
              "19    [{'elementName': 'PoP', 'time': [{'startTime':...\n",
              "20    [{'elementName': 'PoP', 'time': [{'startTime':...\n",
              "21    [{'elementName': 'PoP', 'time': [{'startTime':...\n",
              "Name: weatherElement, dtype: object"
            ]
          },
          "metadata": {},
          "execution_count": 31
        }
      ]
    },
    {
      "cell_type": "code",
      "source": [
        "# DF01TI = DF01['time']\n",
        "# pd.DataFrame(DF01, columns=['time'])\n",
        "for i in DF01:\n",
        " TIME = (i[\"time\"])\n",
        "TIME\n",
        "# pd.DataFrame(TIME)"
      ],
      "metadata": {
        "colab": {
          "base_uri": "https://localhost:8080/"
        },
        "id": "xkpvCBzXwzkH",
        "outputId": "4bb476b3-23c7-41cc-ee8e-509f52b41608"
      },
      "execution_count": 24,
      "outputs": [
        {
          "output_type": "execute_result",
          "data": {
            "text/plain": [
              "[{'endTime': '2022-05-26 06:00:00',\n",
              "  'parameter': {'parameterName': '70', 'parameterUnit': '百分比'},\n",
              "  'startTime': '2022-05-25 18:00:00'},\n",
              " {'endTime': '2022-05-26 18:00:00',\n",
              "  'parameter': {'parameterName': '70', 'parameterUnit': '百分比'},\n",
              "  'startTime': '2022-05-26 06:00:00'},\n",
              " {'endTime': '2022-05-27 06:00:00',\n",
              "  'parameter': {'parameterName': '80', 'parameterUnit': '百分比'},\n",
              "  'startTime': '2022-05-26 18:00:00'}]"
            ]
          },
          "metadata": {},
          "execution_count": 24
        }
      ]
    },
    {
      "cell_type": "code",
      "source": [
        "for i in TIME:\n",
        " STime = (i[\"startTime\"])\n",
        "STime"
      ],
      "metadata": {
        "colab": {
          "base_uri": "https://localhost:8080/",
          "height": 35
        },
        "id": "uDAwgqml2k3h",
        "outputId": "c8f21baf-75d7-4566-f11a-ac0ef295bffc"
      },
      "execution_count": 25,
      "outputs": [
        {
          "output_type": "execute_result",
          "data": {
            "text/plain": [
              "'2022-05-26 18:00:00'"
            ],
            "application/vnd.google.colaboratory.intrinsic+json": {
              "type": "string"
            }
          },
          "metadata": {},
          "execution_count": 25
        }
      ]
    },
    {
      "cell_type": "code",
      "source": [
        "for i in TIME:\n",
        " EDTime = (i[\"endTime\"])\n",
        "EDTime"
      ],
      "metadata": {
        "colab": {
          "base_uri": "https://localhost:8080/",
          "height": 35
        },
        "id": "bG0AJuRH4z35",
        "outputId": "61764f4c-9a37-45a9-ca56-5dc1abcc64c1"
      },
      "execution_count": 26,
      "outputs": [
        {
          "output_type": "execute_result",
          "data": {
            "text/plain": [
              "'2022-05-27 06:00:00'"
            ],
            "application/vnd.google.colaboratory.intrinsic+json": {
              "type": "string"
            }
          },
          "metadata": {},
          "execution_count": 26
        }
      ]
    },
    {
      "cell_type": "code",
      "source": [
        "for i in TIME:\n",
        " Parameter = (i[\"parameter\"])\n",
        "\n",
        "Parameter = pd.Series(Parameter)\n",
        "pd.DataFrame(Parameter, columns=['Parameter'])"
      ],
      "metadata": {
        "colab": {
          "base_uri": "https://localhost:8080/",
          "height": 112
        },
        "id": "3wGoaumq1C2L",
        "outputId": "60fd768b-a84f-4c04-ffed-9c4fbd3459ad"
      },
      "execution_count": 27,
      "outputs": [
        {
          "output_type": "execute_result",
          "data": {
            "text/plain": [
              "              Parameter\n",
              "parameterName        80\n",
              "parameterUnit       百分比"
            ],
            "text/html": [
              "\n",
              "  <div id=\"df-31ad2345-c1d0-45bc-bca5-481a9a402cd6\">\n",
              "    <div class=\"colab-df-container\">\n",
              "      <div>\n",
              "<style scoped>\n",
              "    .dataframe tbody tr th:only-of-type {\n",
              "        vertical-align: middle;\n",
              "    }\n",
              "\n",
              "    .dataframe tbody tr th {\n",
              "        vertical-align: top;\n",
              "    }\n",
              "\n",
              "    .dataframe thead th {\n",
              "        text-align: right;\n",
              "    }\n",
              "</style>\n",
              "<table border=\"1\" class=\"dataframe\">\n",
              "  <thead>\n",
              "    <tr style=\"text-align: right;\">\n",
              "      <th></th>\n",
              "      <th>Parameter</th>\n",
              "    </tr>\n",
              "  </thead>\n",
              "  <tbody>\n",
              "    <tr>\n",
              "      <th>parameterName</th>\n",
              "      <td>80</td>\n",
              "    </tr>\n",
              "    <tr>\n",
              "      <th>parameterUnit</th>\n",
              "      <td>百分比</td>\n",
              "    </tr>\n",
              "  </tbody>\n",
              "</table>\n",
              "</div>\n",
              "      <button class=\"colab-df-convert\" onclick=\"convertToInteractive('df-31ad2345-c1d0-45bc-bca5-481a9a402cd6')\"\n",
              "              title=\"Convert this dataframe to an interactive table.\"\n",
              "              style=\"display:none;\">\n",
              "        \n",
              "  <svg xmlns=\"http://www.w3.org/2000/svg\" height=\"24px\"viewBox=\"0 0 24 24\"\n",
              "       width=\"24px\">\n",
              "    <path d=\"M0 0h24v24H0V0z\" fill=\"none\"/>\n",
              "    <path d=\"M18.56 5.44l.94 2.06.94-2.06 2.06-.94-2.06-.94-.94-2.06-.94 2.06-2.06.94zm-11 1L8.5 8.5l.94-2.06 2.06-.94-2.06-.94L8.5 2.5l-.94 2.06-2.06.94zm10 10l.94 2.06.94-2.06 2.06-.94-2.06-.94-.94-2.06-.94 2.06-2.06.94z\"/><path d=\"M17.41 7.96l-1.37-1.37c-.4-.4-.92-.59-1.43-.59-.52 0-1.04.2-1.43.59L10.3 9.45l-7.72 7.72c-.78.78-.78 2.05 0 2.83L4 21.41c.39.39.9.59 1.41.59.51 0 1.02-.2 1.41-.59l7.78-7.78 2.81-2.81c.8-.78.8-2.07 0-2.86zM5.41 20L4 18.59l7.72-7.72 1.47 1.35L5.41 20z\"/>\n",
              "  </svg>\n",
              "      </button>\n",
              "      \n",
              "  <style>\n",
              "    .colab-df-container {\n",
              "      display:flex;\n",
              "      flex-wrap:wrap;\n",
              "      gap: 12px;\n",
              "    }\n",
              "\n",
              "    .colab-df-convert {\n",
              "      background-color: #E8F0FE;\n",
              "      border: none;\n",
              "      border-radius: 50%;\n",
              "      cursor: pointer;\n",
              "      display: none;\n",
              "      fill: #1967D2;\n",
              "      height: 32px;\n",
              "      padding: 0 0 0 0;\n",
              "      width: 32px;\n",
              "    }\n",
              "\n",
              "    .colab-df-convert:hover {\n",
              "      background-color: #E2EBFA;\n",
              "      box-shadow: 0px 1px 2px rgba(60, 64, 67, 0.3), 0px 1px 3px 1px rgba(60, 64, 67, 0.15);\n",
              "      fill: #174EA6;\n",
              "    }\n",
              "\n",
              "    [theme=dark] .colab-df-convert {\n",
              "      background-color: #3B4455;\n",
              "      fill: #D2E3FC;\n",
              "    }\n",
              "\n",
              "    [theme=dark] .colab-df-convert:hover {\n",
              "      background-color: #434B5C;\n",
              "      box-shadow: 0px 1px 3px 1px rgba(0, 0, 0, 0.15);\n",
              "      filter: drop-shadow(0px 1px 2px rgba(0, 0, 0, 0.3));\n",
              "      fill: #FFFFFF;\n",
              "    }\n",
              "  </style>\n",
              "\n",
              "      <script>\n",
              "        const buttonEl =\n",
              "          document.querySelector('#df-31ad2345-c1d0-45bc-bca5-481a9a402cd6 button.colab-df-convert');\n",
              "        buttonEl.style.display =\n",
              "          google.colab.kernel.accessAllowed ? 'block' : 'none';\n",
              "\n",
              "        async function convertToInteractive(key) {\n",
              "          const element = document.querySelector('#df-31ad2345-c1d0-45bc-bca5-481a9a402cd6');\n",
              "          const dataTable =\n",
              "            await google.colab.kernel.invokeFunction('convertToInteractive',\n",
              "                                                     [key], {});\n",
              "          if (!dataTable) return;\n",
              "\n",
              "          const docLinkHtml = 'Like what you see? Visit the ' +\n",
              "            '<a target=\"_blank\" href=https://colab.research.google.com/notebooks/data_table.ipynb>data table notebook</a>'\n",
              "            + ' to learn more about interactive tables.';\n",
              "          element.innerHTML = '';\n",
              "          dataTable['output_type'] = 'display_data';\n",
              "          await google.colab.output.renderOutput(dataTable, element);\n",
              "          const docLink = document.createElement('div');\n",
              "          docLink.innerHTML = docLinkHtml;\n",
              "          element.appendChild(docLink);\n",
              "        }\n",
              "      </script>\n",
              "    </div>\n",
              "  </div>\n",
              "  "
            ]
          },
          "metadata": {},
          "execution_count": 27
        }
      ]
    },
    {
      "cell_type": "code",
      "source": [
        "Pop = Parameter['parameterName']\n",
        "Pop"
      ],
      "metadata": {
        "colab": {
          "base_uri": "https://localhost:8080/",
          "height": 35
        },
        "id": "1i5I7GHD4YZe",
        "outputId": "bfec135b-f508-4f61-f9b3-26906b1bc987"
      },
      "execution_count": 28,
      "outputs": [
        {
          "output_type": "execute_result",
          "data": {
            "text/plain": [
              "'80'"
            ],
            "application/vnd.google.colaboratory.intrinsic+json": {
              "type": "string"
            }
          },
          "metadata": {},
          "execution_count": 28
        }
      ]
    },
    {
      "cell_type": "code",
      "source": [
        "CY01 = {'CY': CYName[0],'Pop': Pop,'STime': STime,'EDTime': EDTime}\n",
        "\n",
        "pd.DataFrame(CY01, columns=['Pop','STime','EDTime'],index=[CYName[0]])"
      ],
      "metadata": {
        "colab": {
          "base_uri": "https://localhost:8080/",
          "height": 81
        },
        "id": "m1TpySCm48Y3",
        "outputId": "e98ca7e6-f6fc-4358-d3ea-dd91ef49a5ec"
      },
      "execution_count": 29,
      "outputs": [
        {
          "output_type": "execute_result",
          "data": {
            "text/plain": [
              "    Pop                STime               EDTime\n",
              "嘉義縣  80  2022-05-26 18:00:00  2022-05-27 06:00:00"
            ],
            "text/html": [
              "\n",
              "  <div id=\"df-311c9979-b5fd-4f14-b909-4cecebfc6f92\">\n",
              "    <div class=\"colab-df-container\">\n",
              "      <div>\n",
              "<style scoped>\n",
              "    .dataframe tbody tr th:only-of-type {\n",
              "        vertical-align: middle;\n",
              "    }\n",
              "\n",
              "    .dataframe tbody tr th {\n",
              "        vertical-align: top;\n",
              "    }\n",
              "\n",
              "    .dataframe thead th {\n",
              "        text-align: right;\n",
              "    }\n",
              "</style>\n",
              "<table border=\"1\" class=\"dataframe\">\n",
              "  <thead>\n",
              "    <tr style=\"text-align: right;\">\n",
              "      <th></th>\n",
              "      <th>Pop</th>\n",
              "      <th>STime</th>\n",
              "      <th>EDTime</th>\n",
              "    </tr>\n",
              "  </thead>\n",
              "  <tbody>\n",
              "    <tr>\n",
              "      <th>嘉義縣</th>\n",
              "      <td>80</td>\n",
              "      <td>2022-05-26 18:00:00</td>\n",
              "      <td>2022-05-27 06:00:00</td>\n",
              "    </tr>\n",
              "  </tbody>\n",
              "</table>\n",
              "</div>\n",
              "      <button class=\"colab-df-convert\" onclick=\"convertToInteractive('df-311c9979-b5fd-4f14-b909-4cecebfc6f92')\"\n",
              "              title=\"Convert this dataframe to an interactive table.\"\n",
              "              style=\"display:none;\">\n",
              "        \n",
              "  <svg xmlns=\"http://www.w3.org/2000/svg\" height=\"24px\"viewBox=\"0 0 24 24\"\n",
              "       width=\"24px\">\n",
              "    <path d=\"M0 0h24v24H0V0z\" fill=\"none\"/>\n",
              "    <path d=\"M18.56 5.44l.94 2.06.94-2.06 2.06-.94-2.06-.94-.94-2.06-.94 2.06-2.06.94zm-11 1L8.5 8.5l.94-2.06 2.06-.94-2.06-.94L8.5 2.5l-.94 2.06-2.06.94zm10 10l.94 2.06.94-2.06 2.06-.94-2.06-.94-.94-2.06-.94 2.06-2.06.94z\"/><path d=\"M17.41 7.96l-1.37-1.37c-.4-.4-.92-.59-1.43-.59-.52 0-1.04.2-1.43.59L10.3 9.45l-7.72 7.72c-.78.78-.78 2.05 0 2.83L4 21.41c.39.39.9.59 1.41.59.51 0 1.02-.2 1.41-.59l7.78-7.78 2.81-2.81c.8-.78.8-2.07 0-2.86zM5.41 20L4 18.59l7.72-7.72 1.47 1.35L5.41 20z\"/>\n",
              "  </svg>\n",
              "      </button>\n",
              "      \n",
              "  <style>\n",
              "    .colab-df-container {\n",
              "      display:flex;\n",
              "      flex-wrap:wrap;\n",
              "      gap: 12px;\n",
              "    }\n",
              "\n",
              "    .colab-df-convert {\n",
              "      background-color: #E8F0FE;\n",
              "      border: none;\n",
              "      border-radius: 50%;\n",
              "      cursor: pointer;\n",
              "      display: none;\n",
              "      fill: #1967D2;\n",
              "      height: 32px;\n",
              "      padding: 0 0 0 0;\n",
              "      width: 32px;\n",
              "    }\n",
              "\n",
              "    .colab-df-convert:hover {\n",
              "      background-color: #E2EBFA;\n",
              "      box-shadow: 0px 1px 2px rgba(60, 64, 67, 0.3), 0px 1px 3px 1px rgba(60, 64, 67, 0.15);\n",
              "      fill: #174EA6;\n",
              "    }\n",
              "\n",
              "    [theme=dark] .colab-df-convert {\n",
              "      background-color: #3B4455;\n",
              "      fill: #D2E3FC;\n",
              "    }\n",
              "\n",
              "    [theme=dark] .colab-df-convert:hover {\n",
              "      background-color: #434B5C;\n",
              "      box-shadow: 0px 1px 3px 1px rgba(0, 0, 0, 0.15);\n",
              "      filter: drop-shadow(0px 1px 2px rgba(0, 0, 0, 0.3));\n",
              "      fill: #FFFFFF;\n",
              "    }\n",
              "  </style>\n",
              "\n",
              "      <script>\n",
              "        const buttonEl =\n",
              "          document.querySelector('#df-311c9979-b5fd-4f14-b909-4cecebfc6f92 button.colab-df-convert');\n",
              "        buttonEl.style.display =\n",
              "          google.colab.kernel.accessAllowed ? 'block' : 'none';\n",
              "\n",
              "        async function convertToInteractive(key) {\n",
              "          const element = document.querySelector('#df-311c9979-b5fd-4f14-b909-4cecebfc6f92');\n",
              "          const dataTable =\n",
              "            await google.colab.kernel.invokeFunction('convertToInteractive',\n",
              "                                                     [key], {});\n",
              "          if (!dataTable) return;\n",
              "\n",
              "          const docLinkHtml = 'Like what you see? Visit the ' +\n",
              "            '<a target=\"_blank\" href=https://colab.research.google.com/notebooks/data_table.ipynb>data table notebook</a>'\n",
              "            + ' to learn more about interactive tables.';\n",
              "          element.innerHTML = '';\n",
              "          dataTable['output_type'] = 'display_data';\n",
              "          await google.colab.output.renderOutput(dataTable, element);\n",
              "          const docLink = document.createElement('div');\n",
              "          docLink.innerHTML = docLinkHtml;\n",
              "          element.appendChild(docLink);\n",
              "        }\n",
              "      </script>\n",
              "    </div>\n",
              "  </div>\n",
              "  "
            ]
          },
          "metadata": {},
          "execution_count": 29
        }
      ]
    },
    {
      "cell_type": "code",
      "source": [
        "CYName = []\n",
        "for i in data['records']['location']:\n",
        "  # print(i['locationName'])\n",
        "  CYName.append(i['locationName'])\n",
        "CYName"
      ],
      "metadata": {
        "colab": {
          "base_uri": "https://localhost:8080/"
        },
        "id": "xIe2ULZtdwQy",
        "outputId": "9d5004e8-940e-49f2-a774-788248b96533"
      },
      "execution_count": 18,
      "outputs": [
        {
          "output_type": "execute_result",
          "data": {
            "text/plain": [
              "['嘉義縣',\n",
              " '新北市',\n",
              " '嘉義市',\n",
              " '新竹縣',\n",
              " '新竹市',\n",
              " '臺北市',\n",
              " '臺南市',\n",
              " '宜蘭縣',\n",
              " '苗栗縣',\n",
              " '雲林縣',\n",
              " '花蓮縣',\n",
              " '臺中市',\n",
              " '臺東縣',\n",
              " '桃園市',\n",
              " '南投縣',\n",
              " '高雄市',\n",
              " '金門縣',\n",
              " '屏東縣',\n",
              " '基隆市',\n",
              " '澎湖縣',\n",
              " '彰化縣',\n",
              " '連江縣']"
            ]
          },
          "metadata": {},
          "execution_count": 18
        }
      ]
    },
    {
      "cell_type": "code",
      "source": [
        "STime = []\n",
        "DFall = data['records']['location']\n",
        "DF = pd.DataFrame(DFall)\n",
        "WE = DF['weatherElement']"
      ],
      "metadata": {
        "id": "faeM3pnHnIjD"
      },
      "execution_count": 61,
      "outputs": []
    },
    {
      "cell_type": "code",
      "source": [
        "Pop = []\n",
        "DFall = data['records']['location']\n",
        "DF = pd.DataFrame(DFall)\n",
        "WE = DF['weatherElement'][0]\n",
        "for i in WE:\n",
        " TIME = (i[\"time\"])\n",
        "\n",
        "TIME\n",
        "# for i in WE:\n",
        "#   print(i['elementName'])\n",
        "# DF01"
      ],
      "metadata": {
        "colab": {
          "base_uri": "https://localhost:8080/"
        },
        "id": "WlOOrS2TeYqz",
        "outputId": "0c3fc8e3-9983-48dc-97d7-4d85c574fe0c"
      },
      "execution_count": 46,
      "outputs": [
        {
          "output_type": "execute_result",
          "data": {
            "text/plain": [
              "[{'endTime': '2022-05-25 18:00:00',\n",
              "  'parameter': {'parameterName': '70', 'parameterUnit': '百分比'},\n",
              "  'startTime': '2022-05-25 12:00:00'},\n",
              " {'endTime': '2022-05-26 06:00:00',\n",
              "  'parameter': {'parameterName': '70', 'parameterUnit': '百分比'},\n",
              "  'startTime': '2022-05-25 18:00:00'},\n",
              " {'endTime': '2022-05-26 18:00:00',\n",
              "  'parameter': {'parameterName': '70', 'parameterUnit': '百分比'},\n",
              "  'startTime': '2022-05-26 06:00:00'}]"
            ]
          },
          "metadata": {},
          "execution_count": 46
        }
      ]
    },
    {
      "cell_type": "code",
      "source": [
        ""
      ],
      "metadata": {
        "id": "GW7Q-IGFj4-U"
      },
      "execution_count": null,
      "outputs": []
    }
  ]
}